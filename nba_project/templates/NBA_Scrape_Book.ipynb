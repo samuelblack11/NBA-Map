{
 "cells": [
  {
   "cell_type": "code",
   "execution_count": 7,
   "metadata": {},
   "outputs": [],
   "source": [
    "from splinter import Browser\n",
    "from bs4 import BeautifulSoup\n",
    "import requests\n",
    "import pymongo"
   ]
  },
  {
   "cell_type": "code",
   "execution_count": 8,
   "metadata": {},
   "outputs": [],
   "source": [
    "# Initialize PyMongo to work with MongoDBs\n",
    "conn = 'mongodb://localhost:27017'\n",
    "client = pymongo.MongoClient(conn)"
   ]
  },
  {
   "cell_type": "code",
   "execution_count": 9,
   "metadata": {},
   "outputs": [],
   "source": [
    "# Define database and collection\n",
    "db = client.nba_db\n",
    "collection = db.items"
   ]
  },
  {
   "cell_type": "code",
   "execution_count": 10,
   "metadata": {},
   "outputs": [
    {
     "name": "stdout",
     "output_type": "stream",
     "text": [
      "/usr/local/bin/chromedriver\r\n"
     ]
    }
   ],
   "source": [
    "# https://splinter.readthedocs.io/en/latest/drivers/chrome.html\n",
    "!which chromedriver"
   ]
  },
  {
   "cell_type": "code",
   "execution_count": 11,
   "metadata": {},
   "outputs": [],
   "source": [
    "url_list = [\n",
    "\"https://stats.nba.com/team/1610612737/franchise-leaders/\",\n",
    "\"https://stats.nba.com/team/1610612738/franchise-leaders/\",\n",
    "\"https://stats.nba.com/team/1610612751/franchise-leaders/\",\n",
    "\"https://stats.nba.com/team/1610612766/franchise-leaders/\",\n",
    "\"https://stats.nba.com/team/1610612741/franchise-leaders/\"\n",
    "\"https://stats.nba.com/team/1610612739/franchise-leaders/\",\n",
    "\"https://stats.nba.com/team/1610612742/franchise-leaders/\",\n",
    "\"https://stats.nba.com/team/1610612743/franchise-leaders/\",\n",
    "\"https://stats.nba.com/team/1610612765/franchise-leaders/\",\n",
    "\"https://stats.nba.com/team/1610612744/franchise-leaders/\",\n",
    "\"https://stats.nba.com/team/1610612745/franchise-leaders/\",\n",
    "\"https://stats.nba.com/team/1610612754/franchise-leaders/\",\n",
    "\"https://stats.nba.com/team/1610612746/franchise-leaders/\",\n",
    "\"https://stats.nba.com/team/1610612747/franchise-leaders/\",\n",
    "\"https://stats.nba.com/team/1610612763/franchise-leaders/\",\n",
    "\"https://stats.nba.com/team/1610612748/franchise-leaders/\",\n",
    "\"https://stats.nba.com/team/1610612749/franchise-leaders/\",\n",
    "\"https://stats.nba.com/team/1610612750/franchise-leaders/\",\n",
    "\"https://stats.nba.com/team/1610612740/franchise-leaders/\",\n",
    "\"https://stats.nba.com/team/1610612752/franchise-leaders/\",\n",
    "\"https://stats.nba.com/team/1610612760/franchise-leaders/\",\n",
    "\"https://stats.nba.com/team/1610612753/franchise-leaders/\",\n",
    "\"https://stats.nba.com/team/1610612755/franchise-leaders/\",\n",
    "\"https://stats.nba.com/team/1610612756/franchise-leaders/\",\n",
    "\"https://stats.nba.com/team/1610612757/franchise-leaders/\",\n",
    "\"https://stats.nba.com/team/1610612758/franchise-leaders/\",\n",
    "\"https://stats.nba.com/team/1610612759/franchise-leaders/\",\n",
    "\"https://stats.nba.com/team/1610612761/franchise-leaders/\",\n",
    "\"https://stats.nba.com/team/1610612762/franchise-leaders/\",\n",
    "\"https://stats.nba.com/team/1610612764/franchise-leaders/\"\n",
    "]\n",
    "\n"
   ]
  },
  {
   "cell_type": "code",
   "execution_count": 12,
   "metadata": {},
   "outputs": [
    {
     "name": "stdout",
     "output_type": "stream",
     "text": [
      "{'City': 'Atlanta', 'Team Name': 'Hawks', 'Games Played Leader': 'Dominique Wilkins (882)', 'Points Leader': 'Dominique Wilkins (26.4)', 'Assists Leader': 'Mookie Blaylock (7.3)', 'Steals Leader': 'Mookie Blaylock (2.6)', 'Rebounds Leader': 'Bob Pettit (16.2)', 'Blocks Leader': 'Dikembe Mutombo (3.2)', '_id': ObjectId('5c326b0c52004401d8974b44')}\n",
      "---------------------------------------------------------------------------------\n",
      "{'City': 'Boston', 'Team Name': 'Celtics', 'Games Played Leader': 'John Havlicek (1,270)', 'Points Leader': 'Isaiah Thomas (24.7)', 'Assists Leader': 'Rajon Rondo (8.5)', 'Steals Leader': 'Rajon Rondo (1.9)', 'Rebounds Leader': 'Bill Russell (22.5)', 'Blocks Leader': 'Kevin McHale (1.7)', '_id': ObjectId('5c326b2452004401d8974b45')}\n",
      "---------------------------------------------------------------------------------\n",
      "list index out of range\n",
      "{'City': 'Charlotte', 'Team Name': 'Hornets', 'Games Played Leader': 'Dell Curry (701)', 'Points Leader': 'Glen Rice (23.5)', 'Assists Leader': 'Muggsy Bogues (8.8)', 'Steals Leader': 'Eddie Jones (2.8)', 'Rebounds Leader': 'Emeka Okafor (10.7)', 'Blocks Leader': 'Alonzo Mourning (3.2)', '_id': ObjectId('5c326b2952004401d8974b46')}\n",
      "---------------------------------------------------------------------------------\n",
      "list index out of range\n",
      "{'City': 'Dallas', 'Team Name': 'Mavericks', 'Games Played Leader': 'Dirk Nowitzki (1,481)', 'Points Leader': 'Mark Aguirre (24.6)', 'Assists Leader': 'Jason Kidd (8.4)', 'Steals Leader': 'Jason Kidd (1.9)', 'Rebounds Leader': 'Tyson Chandler (10.4)', 'Blocks Leader': 'Shawn Bradley (2.1)', '_id': ObjectId('5c326b2e52004401d8974b47')}\n",
      "---------------------------------------------------------------------------------\n",
      "{'City': 'Denver', 'Team Name': 'Nuggets', 'Games Played Leader': 'Alex English (837)', 'Points Leader': 'Alex English (25.9)', 'Assists Leader': 'Nick Van Exel (8.4)', 'Steals Leader': 'Lafayette Lever (2.5)', 'Rebounds Leader': 'Dikembe Mutombo (12.3)', 'Blocks Leader': 'Dikembe Mutombo (3.8)', '_id': ObjectId('5c326b3252004401d8974b48')}\n",
      "---------------------------------------------------------------------------------\n",
      "{'City': 'Detroit', 'Team Name': 'Pistons', 'Games Played Leader': 'Joe Dumars (1,018)', 'Points Leader': 'Bob Lanier (22.7)', 'Assists Leader': 'Kevin Porter (10.1)', 'Steals Leader': 'M.L. Carr (2.1)', 'Rebounds Leader': 'Andre Drummond (13.5)', 'Blocks Leader': 'Ben Wallace (2.3)', '_id': ObjectId('5c326b3652004401d8974b49')}\n",
      "---------------------------------------------------------------------------------\n",
      "{'City': 'Golden State', 'Team Name': 'Warriors', 'Games Played Leader': 'Chris Mullin (807)', 'Points Leader': 'Wilt Chamberlain (41.5)', 'Assists Leader': 'Tim Hardaway (9.3)', 'Steals Leader': 'Baron Davis (2.0)', 'Rebounds Leader': 'Wilt Chamberlain (25.1)', 'Blocks Leader': 'Manute Bol (3.7)', '_id': ObjectId('5c326b3a52004401d8974b4a')}\n",
      "---------------------------------------------------------------------------------\n",
      "{'City': 'Houston', 'Team Name': 'Rockets', 'Games Played Leader': 'Hakeem Olajuwon (1,177)', 'Points Leader': 'James Harden (28.3)', 'Assists Leader': 'James Harden (7.8)', 'Steals Leader': 'Clyde Drexler (1.9)', 'Rebounds Leader': 'Moses Malone (15.0)', 'Blocks Leader': 'Hakeem Olajuwon (3.2)', '_id': ObjectId('5c326b3d52004401d8974b4b')}\n",
      "---------------------------------------------------------------------------------\n",
      "{'City': 'Indiana', 'Team Name': 'Pacers', 'Games Played Leader': 'Reggie Miller (1,389)', 'Points Leader': 'Victor Oladipo (22.4)', 'Assists Leader': 'Mark Jackson (8.1)', 'Steals Leader': 'Micheal Williams (2.5)', 'Rebounds Leader': \"Jermaine O'Neal (9.6)\", 'Blocks Leader': \"Jermaine O'Neal (2.4)\", '_id': ObjectId('5c326b3f52004401d8974b4c')}\n",
      "---------------------------------------------------------------------------------\n",
      "{'City': 'LA', 'Team Name': 'Clippers', 'Games Played Leader': 'DeAndre Jordan (750)', 'Points Leader': 'World Free (29.4)', 'Assists Leader': 'Chris Paul (9.8)', 'Steals Leader': 'Chris Paul (2.2)', 'Rebounds Leader': 'Elmore Smith (13.8)', 'Blocks Leader': 'Benoit Benjamin (2.8)', '_id': ObjectId('5c326b4252004401d8974b4d')}\n",
      "---------------------------------------------------------------------------------\n",
      "{'City': 'Los Angeles', 'Team Name': 'Lakers', 'Games Played Leader': 'Kobe Bryant (1,346)', 'Points Leader': 'Elgin Baylor (27.4)', 'Assists Leader': 'Magic Johnson (11.2)', 'Steals Leader': 'Eddie Jones (2.1)', 'Rebounds Leader': 'Wilt Chamberlain (19.2)', 'Blocks Leader': 'Elmore Smith (3.9)', '_id': ObjectId('5c326b4452004401d8974b4e')}\n",
      "---------------------------------------------------------------------------------\n",
      "{'City': 'Memphis', 'Team Name': 'Grizzlies', 'Games Played Leader': 'Mike Conley (756)', 'Points Leader': 'Shareef Abdur-Rahim (20.8)', 'Assists Leader': 'Mike Bibby (7.8)', 'Steals Leader': 'Greg Anthony (1.8)', 'Rebounds Leader': 'Zach Randolph (10.2)', 'Blocks Leader': 'Pau Gasol (1.8)', '_id': ObjectId('5c326b4752004401d8974b4f')}\n",
      "---------------------------------------------------------------------------------\n",
      "{'City': 'Miami', 'Team Name': 'Heat', 'Games Played Leader': 'Dwyane Wade (904)', 'Points Leader': 'LeBron James (26.9)', 'Assists Leader': 'Sherman Douglas (7.9)', 'Steals Leader': 'Sherman Douglas (1.7)', 'Rebounds Leader': 'Hassan Whiteside (12.2)', 'Blocks Leader': 'Alonzo Mourning (2.7)', '_id': ObjectId('5c326b4a52004401d8974b50')}\n",
      "---------------------------------------------------------------------------------\n",
      "{'City': 'Milwaukee', 'Team Name': 'Bucks', 'Games Played Leader': 'Junior Bridgeman (711)', 'Points Leader': 'Kareem Abdul-Jabbar (30.4)', 'Assists Leader': 'Oscar Robertson (7.5)', 'Steals Leader': 'Alvin Robertson (2.7)', 'Rebounds Leader': 'Kareem Abdul-Jabbar (15.3)', 'Blocks Leader': 'Elmore Smith (2.7)', '_id': ObjectId('5c326b4e52004401d8974b51')}\n",
      "---------------------------------------------------------------------------------\n",
      "{'City': 'Minnesota', 'Team Name': 'Timberwolves', 'Games Played Leader': 'Kevin Garnett (970)', 'Points Leader': 'Karl-Anthony Towns (21.6)', 'Assists Leader': 'Ricky Rubio (8.5)', 'Steals Leader': 'Ricky Rubio (2.1)', 'Rebounds Leader': 'Kevin Love (12.2)', 'Blocks Leader': 'Eddie Griffin (1.8)', '_id': ObjectId('5c326b5052004401d8974b52')}\n",
      "---------------------------------------------------------------------------------\n",
      "{'City': 'New Orleans', 'Team Name': 'Pelicans', 'Games Played Leader': 'David West (530)', 'Points Leader': 'Anthony Davis (23.8)', 'Assists Leader': 'Chris Paul (9.9)', 'Steals Leader': 'Chris Paul (2.4)', 'Rebounds Leader': 'Tyson Chandler (11.3)', 'Blocks Leader': 'Anthony Davis (2.4)', '_id': ObjectId('5c326b5352004401d8974b53')}\n",
      "---------------------------------------------------------------------------------\n",
      "{'City': 'New York', 'Team Name': 'Knicks', 'Games Played Leader': 'Patrick Ewing (1,039)', 'Points Leader': 'Bob McAdoo (26.7)', 'Assists Leader': 'Mark Jackson (8.0)', 'Steals Leader': 'Micheal Ray Richardson (2.6)', 'Rebounds Leader': 'Walt Bellamy (13.3)', 'Blocks Leader': 'Patrick Ewing (2.7)', '_id': ObjectId('5c326b6952004401d8974b54')}\n",
      "---------------------------------------------------------------------------------\n",
      "{'City': 'Oklahoma City', 'Team Name': 'Thunder', 'Games Played Leader': 'Gary Payton (999)', 'Points Leader': 'Kevin Durant (27.4)', 'Assists Leader': 'Lenny Wilkens (9.0)', 'Steals Leader': 'Slick Watts (2.5)', 'Rebounds Leader': 'Spencer Haywood (12.1)', 'Blocks Leader': 'Serge Ibaka (2.5)', '_id': ObjectId('5c326b6c52004401d8974b55')}\n",
      "---------------------------------------------------------------------------------\n",
      "{'City': 'Orlando', 'Team Name': 'Magic', 'Games Played Leader': 'Nick Anderson (692)', 'Points Leader': 'Tracy McGrady (28.1)', 'Assists Leader': 'Scott Skiles (7.2)', 'Steals Leader': 'Anfernee Hardaway (1.9)', 'Rebounds Leader': 'Dwight Howard (13.0)', 'Blocks Leader': \"Shaquille O'Neal (2.8)\", '_id': ObjectId('5c326b6f52004401d8974b56')}\n",
      "---------------------------------------------------------------------------------\n",
      "list index out of range\n",
      "{'City': 'Phoenix', 'Team Name': 'Suns', 'Games Played Leader': 'Alvan Adams (988)', 'Points Leader': 'Charlie Scott (24.8)', 'Assists Leader': 'Jason Kidd (9.7)', 'Steals Leader': 'Ron Lee (2.2)', 'Rebounds Leader': 'Paul Silas (12.1)', 'Blocks Leader': 'Larry Nance (1.9)', '_id': ObjectId('5c326b7552004401d8974b57')}\n",
      "---------------------------------------------------------------------------------\n"
     ]
    },
    {
     "name": "stdout",
     "output_type": "stream",
     "text": [
      "{'City': 'Portland', 'Team Name': 'Trail Blazers', 'Games Played Leader': 'Clyde Drexler (867)', 'Points Leader': 'Kiki Vandeweghe (23.5)', 'Assists Leader': 'Rod Strickland (8.2)', 'Steals Leader': 'Clyde Drexler (2.1)', 'Rebounds Leader': 'Bill Walton (13.5)', 'Blocks Leader': 'Theo Ratliff (2.6)', '_id': ObjectId('5c326b7852004401d8974b58')}\n",
      "---------------------------------------------------------------------------------\n",
      "{'City': 'Sacramento', 'Team Name': 'Kings', 'Games Played Leader': 'Sam Lacey (888)', 'Points Leader': 'Oscar Robertson (29.3)', 'Assists Leader': 'Oscar Robertson (10.3)', 'Steals Leader': 'Metta World Peace (2.2)', 'Rebounds Leader': 'Jerry Lucas (19.1)', 'Blocks Leader': 'Duane Causwell (1.6)', '_id': ObjectId('5c326b7c52004401d8974b59')}\n",
      "---------------------------------------------------------------------------------\n",
      "{'City': 'San Antonio', 'Team Name': 'Spurs', 'Games Played Leader': 'Tim Duncan (1,392)', 'Points Leader': 'George Gervin (27.3)', 'Assists Leader': 'Rod Strickland (8.2)', 'Steals Leader': 'Alvin Robertson (2.9)', 'Rebounds Leader': 'Dennis Rodman (17.1)', 'Blocks Leader': 'George Johnson (3.3)', '_id': ObjectId('5c326b8052004401d8974b5a')}\n",
      "---------------------------------------------------------------------------------\n",
      "{'City': 'Toronto', 'Team Name': 'Raptors', 'Games Played Leader': 'DeMar DeRozan (675)', 'Points Leader': 'Vince Carter (23.4)', 'Assists Leader': 'Damon Stoudamire (8.8)', 'Steals Leader': 'Doug Christie (2.1)', 'Rebounds Leader': 'Chris Bosh (9.4)', 'Blocks Leader': 'Marcus Camby (2.9)', '_id': ObjectId('5c326b8352004401d8974b5b')}\n",
      "---------------------------------------------------------------------------------\n",
      "{'City': 'Utah', 'Team Name': 'Jazz', 'Games Played Leader': 'John Stockton (1,504)', 'Points Leader': 'Adrian Dantley (29.6)', 'Assists Leader': 'John Stockton (10.5)', 'Steals Leader': 'John Stockton (2.2)', 'Rebounds Leader': 'Truck Robinson (14.9)', 'Blocks Leader': 'Mark Eaton (3.5)', '_id': ObjectId('5c326b8552004401d8974b5c')}\n",
      "---------------------------------------------------------------------------------\n",
      "{'City': 'Washington', 'Team Name': 'Wizards', 'Games Played Leader': 'Wes Unseld (984)', 'Points Leader': 'Walt Bellamy (27.6)', 'Assists Leader': 'John Wall (9.2)', 'Steals Leader': 'Tom Gugliotta (2.0)', 'Rebounds Leader': 'Walt Bellamy (16.6)', 'Blocks Leader': 'Manute Bol (3.8)', '_id': ObjectId('5c326b8852004401d8974b5d')}\n",
      "---------------------------------------------------------------------------------\n"
     ]
    }
   ],
   "source": [
    "executable_path = {'executable_path': '/usr/local/bin/chromedriver'}\n",
    "browser = Browser('chrome', **executable_path, headless=False)\n",
    "\n",
    "\n",
    "for url in url_list:\n",
    "    try:\n",
    "        browser.visit(url)\n",
    "        html = browser.html\n",
    "        soup = BeautifulSoup(html, 'html.parser')\n",
    "        stats = soup.find_all('div', class_='franchise-leaders__player-list')\n",
    "        city = soup.find(class_='stats-team-summary__city').text\n",
    "        team = soup.find(class_='stats-team-summary__name').text\n",
    "        leaders = soup.find_all(class_=\"franchise-leaders__name\")\n",
    "        leader_stats = soup.find_all(class_=\"franchise-leaders__stat\")\n",
    "\n",
    "        gp_line = leaders[0].text  +f' ({leader_stats[0].text})'\n",
    "        pt_line = leaders[10].text +f' ({leader_stats[10].text})'\n",
    "        ast_line = leaders[20].text +f' ({leader_stats[20].text})'\n",
    "        stl_line = leaders[30].text +f' ({leader_stats[30].text})'\n",
    "        reb_line = leaders[60].text +f' ({leader_stats[60].text})'\n",
    "        blk_line = leaders[70].text +f' ({leader_stats[70].text})'\n",
    "\n",
    "        team_leaders = {\n",
    "       'City': city,\n",
    "       'Team Name': team,\n",
    "       'Games Played Leader': gp_line,\n",
    "       'Points Leader':pt_line,\n",
    "       'Assists Leader': ast_line,\n",
    "       'Steals Leader': stl_line,\n",
    "       'Rebounds Leader': reb_line,\n",
    "       'Blocks Leader': blk_line\n",
    "        }\n",
    "        collection.insert_one(team_leaders)\n",
    "        print(team_leaders)\n",
    "        print('---------------------------------------------------------------------------------')\n",
    "\n",
    "    except Exception as e:\n",
    "        print(e)\n",
    "    \n",
    "    "
   ]
  },
  {
   "cell_type": "code",
   "execution_count": null,
   "metadata": {},
   "outputs": [],
   "source": []
  },
  {
   "cell_type": "code",
   "execution_count": null,
   "metadata": {},
   "outputs": [],
   "source": []
  },
  {
   "cell_type": "code",
   "execution_count": null,
   "metadata": {},
   "outputs": [],
   "source": []
  },
  {
   "cell_type": "code",
   "execution_count": null,
   "metadata": {},
   "outputs": [],
   "source": []
  }
 ],
 "metadata": {
  "kernelspec": {
   "display_name": "Python [default]",
   "language": "python",
   "name": "python3"
  },
  "language_info": {
   "codemirror_mode": {
    "name": "ipython",
    "version": 3
   },
   "file_extension": ".py",
   "mimetype": "text/x-python",
   "name": "python",
   "nbconvert_exporter": "python",
   "pygments_lexer": "ipython3",
   "version": "3.6.5"
  }
 },
 "nbformat": 4,
 "nbformat_minor": 2
}
